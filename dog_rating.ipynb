{
 "cells": [
  {
   "cell_type": "code",
   "execution_count": 1,
   "metadata": {},
   "outputs": [],
   "source": [
    "import pandas as pd\n",
    "from requests import get\n",
    "import tweepy\n",
    "import json\n",
    "from tokens import Tokens"
   ]
  },
  {
   "attachments": {},
   "cell_type": "markdown",
   "metadata": {},
   "source": [
    "## Downloading Required files"
   ]
  },
  {
   "cell_type": "code",
   "execution_count": 2,
   "metadata": {},
   "outputs": [],
   "source": [
    "response = get(\"https://d17h27t6h515a5.cloudfront.net/topher/2017/August/599fd2ad_image-predictions/image-predictions.tsv\")\n",
    "with open(\"image-predictions.tsv\",\"wb\") as file:\n",
    "    file.write(response.content)"
   ]
  },
  {
   "attachments": {},
   "cell_type": "markdown",
   "metadata": {},
   "source": [
    "## Setting Up Twitter API"
   ]
  },
  {
   "cell_type": "code",
   "execution_count": 2,
   "metadata": {},
   "outputs": [],
   "source": [
    "tokens = Tokens()\n",
    "auth = tweepy.OAuth1UserHandler(consumer_key=tokens.twitter_consumer_key, consumer_secret=tokens.twitter_consumer_secret,\n",
    "                                access_token= tokens.twitter_access_token, access_token_secret=tokens.twitter_access_token_secret)\n",
    "api = tweepy.API(auth=auth)\n"
   ]
  },
  {
   "attachments": {},
   "cell_type": "markdown",
   "metadata": {},
   "source": [
    "## Reading the DataFrames"
   ]
  },
  {
   "cell_type": "code",
   "execution_count": 2,
   "metadata": {},
   "outputs": [],
   "source": [
    "image_prediction = pd.read_csv('image-predictions.tsv',sep='\t')\n",
    "twitter_archive = pd.read_csv(\"twitter-archive-enhanced.csv\")\n",
    "\n"
   ]
  },
  {
   "attachments": {},
   "cell_type": "markdown",
   "metadata": {},
   "source": [
    "## Getting The Tweets Data"
   ]
  },
  {
   "cell_type": "code",
   "execution_count": 3,
   "metadata": {},
   "outputs": [],
   "source": [
    "# with open('tweet_json.txt', 'a') as file:\n",
    "# \tfor i in twitter_archive['tweet_id']:\n",
    "# \t\ttry:\n",
    "# \t\t\ttweet = api.get_status(i)\n",
    "# \t\t\ttweet_json = json.dumps(tweet._json)\n",
    "# \t\t\tfile.write(f\"{tweet_json}\\n\")\n",
    "# \t\texcept Exception as e:\n",
    "# \t\t\tprint(e)\n",
    "\n",
    "tweets = []\n",
    "with open('tweet_json.txt') as file:\n",
    "    for jsonObj in file:\n",
    "        tweets.append(json.loads(jsonObj))\n",
    "twitter_data = pd.DataFrame(tweets)\n"
   ]
  },
  {
   "cell_type": "code",
   "execution_count": null,
   "metadata": {},
   "outputs": [],
   "source": []
  }
 ],
 "metadata": {
  "kernelspec": {
   "display_name": "Python 3",
   "language": "python",
   "name": "python3"
  },
  "language_info": {
   "codemirror_mode": {
    "name": "ipython",
    "version": 3
   },
   "file_extension": ".py",
   "mimetype": "text/x-python",
   "name": "python",
   "nbconvert_exporter": "python",
   "pygments_lexer": "ipython3",
   "version": "3.11.2"
  },
  "orig_nbformat": 4
 },
 "nbformat": 4,
 "nbformat_minor": 2
}
